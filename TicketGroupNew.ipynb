{
 "cells": [
  {
   "cell_type": "code",
   "execution_count": null,
   "metadata": {},
   "outputs": [],
   "source": [
    "import pandas as pd\n",
    "import numpy as np "
   ]
  },
  {
   "cell_type": "code",
   "execution_count": null,
   "metadata": {},
   "outputs": [],
   "source": [
    "DetailOutageTicket = pd.read_excel(\"TTOP 12 July Up2.xlsx\")"
   ]
  },
  {
   "cell_type": "code",
   "execution_count": null,
   "metadata": {},
   "outputs": [],
   "source": [
    "# DetailOutage = DetailOutageTicket[((DetailOutageTicket['Impact']!= 'LEVEL4') & (DetailOutageTicket['Impact']!= 'MINOR'))]\n",
    "# DetailOutage = DetailOutageTicket[((DetailOutageTicket['Impact']!= 'LEVEL3') & (DetailOutageTicket['Impact']!= 'LEVEL4') & (DetailOutageTicket['Impact']!= 'MINOR'))]\n",
    "\n",
    "DetailOutage = DetailOutageTicket"
   ]
  },
  {
   "cell_type": "code",
   "execution_count": null,
   "metadata": {},
   "outputs": [],
   "source": [
    "import re\n",
    "\n",
    "pat_name = '\\\\A[A-Z]{2}[1-9]*[GLU]{0,3}[0-9]{4}'; #'[A-F]{1}'\n",
    "DetailOutage['CellName'] = DetailOutage['CellName'].astype(str);\n",
    "DetailOutage['CellName'] = DetailOutage['CellName'].str.upper();\n",
    "DetailOutage['Sector'] = DetailOutage['CellName'].apply(lambda x:  ''.join(re.findall(pat_name, x)));\n",
    "DetailOutage = DetailOutage[DetailOutage['Sector'] != ''];\n",
    "DetailOutage['Site']=np.where(len(DetailOutage['Sector']) > 7, DetailOutage['Sector'].str[:8], DetailOutage['Sector'].str[:6]);\n",
    "DetailOutage.drop(columns = ['Sector'], inplace = True)"
   ]
  },
  {
   "cell_type": "code",
   "execution_count": null,
   "metadata": {},
   "outputs": [],
   "source": [
    "DetailOutage.rename(columns={'Province':'Province Index'}, inplace = True)\n",
    "\n",
    "DetailCity = pd.read_excel(r'Cell Reff/BTS Node 2020.xlsx', sheet_name='Sheet2')\n",
    "DetailPro = pd.read_excel(r'Cell Reff/BTS Node 2020.xlsx', sheet_name='Sheet3')\n",
    "\n",
    "# Detail.rename(columns={'شهر':'City', 'استان':'Province'}, inplace = True)\n",
    "# DetailCity.drop_duplicates(subset =[\"Location\"],keep = 'first', inplace = True)\n",
    "\n",
    "DetailOutage = DetailOutage.merge(DetailCity[['Location','City']], on = ['Location'], how = 'left')\n",
    "DetailOutage = DetailOutage.merge(DetailPro[['Province Index', 'Province']], on = ['Province Index'], how = 'left')"
   ]
  },
  {
   "cell_type": "code",
   "execution_count": null,
   "metadata": {},
   "outputs": [],
   "source": [
    "Outage_Grouping = DetailOutage[['CellName', 'Site', 'Province Index', 'NE', 'Location','Tech','StartOfOutage','Duration',\\\n",
    "                                'EndOfOutage', 'Province', 'City', 'Impact','ENTRY_TicketNumber','TicketTitle',\\\n",
    "                                'TicketClosureType', 'RootCause','EventEnd','Health_Check','Exclude_Cause']]"
   ]
  },
  {
   "cell_type": "code",
   "execution_count": null,
   "metadata": {},
   "outputs": [],
   "source": [
    "Outage_Grouping['StartOfOutage'] = pd.to_datetime(Outage_Grouping['StartOfOutage'])\n",
    "Outage_Grouping['EndOfOutage'] = pd.to_datetime(Outage_Grouping['EndOfOutage'])\n",
    "Outage_Grouping.loc[Outage_Grouping['Tech']=='4G','NE'] = Outage_Grouping.loc[Outage_Grouping['Tech']=='4G','NE'] + '_LTE'"
   ]
  },
  {
   "cell_type": "code",
   "execution_count": null,
   "metadata": {},
   "outputs": [],
   "source": [
    "Outage_Grouping.rename(columns={'Duration': 'Down_Time(Seconds)', 'NE': 'BSC-RNC'}, inplace = True)"
   ]
  },
  {
   "cell_type": "code",
   "execution_count": null,
   "metadata": {},
   "outputs": [],
   "source": [
    "# Outage_Grouping.to_excel('TTOP 12 July.xlsx', index = False, encoding = 'utf-8-sig')"
   ]
  },
  {
   "cell_type": "markdown",
   "metadata": {},
   "source": [
    "### Grouping By Province"
   ]
  },
  {
   "cell_type": "code",
   "execution_count": null,
   "metadata": {},
   "outputs": [],
   "source": [
    "Outage_Grouping.sort_values(by = ['Province Index','StartOfOutage','Down_Time(Seconds)'], inplace = True)\n",
    "Outage_Grouping = Outage_Grouping.reset_index(drop=True)"
   ]
  },
  {
   "cell_type": "code",
   "execution_count": null,
   "metadata": {},
   "outputs": [],
   "source": [
    "outage = Outage_Grouping.groupby(['Province','StartOfOutage'], as_index = True)['Site'].nunique().reset_index().reset_index()"
   ]
  },
  {
   "cell_type": "code",
   "execution_count": null,
   "metadata": {},
   "outputs": [],
   "source": [
    "outage.rename(columns={'index': 'GroupNumPro','Site': 'CountOfSitePerProvince'}, inplace = True) \n",
    "Outage_Grouping = Outage_Grouping.merge(outage, on = ['Province', 'StartOfOutage'], how = 'left') "
   ]
  },
  {
   "cell_type": "code",
   "execution_count": null,
   "metadata": {},
   "outputs": [],
   "source": []
  },
  {
   "cell_type": "code",
   "execution_count": null,
   "metadata": {},
   "outputs": [],
   "source": [
    "Outage_Grouping1 = Outage_Grouping[Outage_Grouping['Tech'] != '4G'] #BSC-RNC\n",
    "Outage_Grouping2 = Outage_Grouping[Outage_Grouping['Tech'] == '4G'] #EnodB"
   ]
  },
  {
   "cell_type": "markdown",
   "metadata": {},
   "source": [
    "### Grouping by BSC-RNC sites"
   ]
  },
  {
   "cell_type": "code",
   "execution_count": null,
   "metadata": {},
   "outputs": [],
   "source": [
    "Outage_Grouping1.sort_values(by = ['BSC-RNC','StartOfOutage','Down_Time(Seconds)'], inplace = True)\n",
    "Outage_Grouping1 = Outage_Grouping1.reset_index(drop=True)"
   ]
  },
  {
   "cell_type": "code",
   "execution_count": null,
   "metadata": {},
   "outputs": [],
   "source": [
    "outage1 = Outage_Grouping1.groupby(['BSC-RNC','StartOfOutage'], as_index = True)['Site'].nunique().reset_index().reset_index()"
   ]
  },
  {
   "cell_type": "code",
   "execution_count": null,
   "metadata": {},
   "outputs": [],
   "source": [
    "outage1.rename(columns={'index': 'GroupNum','Site': 'CountOfSitePerGroup'}, inplace = True) "
   ]
  },
  {
   "cell_type": "code",
   "execution_count": null,
   "metadata": {},
   "outputs": [],
   "source": [
    "Outage_Grouping1 = Outage_Grouping1.merge(outage1, on = ['BSC-RNC', 'StartOfOutage'], how = 'left') "
   ]
  },
  {
   "cell_type": "code",
   "execution_count": null,
   "metadata": {},
   "outputs": [],
   "source": [
    "SiteCount_BSCRNC = pd.read_excel(\"SITE COUNT (BSC-RNC-City-Province)_2G3G4G.xlsx\", sheet_name='BSC-RNC')"
   ]
  },
  {
   "cell_type": "code",
   "execution_count": null,
   "metadata": {},
   "outputs": [],
   "source": [
    "Outage_Grouping1 = Outage_Grouping1.merge(SiteCount_BSCRNC[['BSC-RNC', 'SITE_COUNT(30%)']], on = ['BSC-RNC'], how = 'left')"
   ]
  },
  {
   "cell_type": "code",
   "execution_count": null,
   "metadata": {},
   "outputs": [],
   "source": []
  },
  {
   "cell_type": "markdown",
   "metadata": {},
   "source": [
    "### Grouping according to provincial 4G sites:"
   ]
  },
  {
   "cell_type": "code",
   "execution_count": null,
   "metadata": {},
   "outputs": [],
   "source": [
    "Outage_Grouping2.sort_values(by = ['Province','StartOfOutage','Down_Time(Seconds)'], inplace = True)\n",
    "Outage_Grouping2 = Outage_Grouping2.reset_index(drop=True)"
   ]
  },
  {
   "cell_type": "code",
   "execution_count": null,
   "metadata": {},
   "outputs": [],
   "source": [
    "outage2 = Outage_Grouping2.groupby(['Province','StartOfOutage'], as_index = True)['Site'].nunique().reset_index().reset_index()"
   ]
  },
  {
   "cell_type": "code",
   "execution_count": null,
   "metadata": {},
   "outputs": [],
   "source": [
    "outage2.rename(columns={'index': 'GroupNum','Site': 'CountOfSitePerGroup'}, inplace = True) \n",
    "Outage_Grouping2 = Outage_Grouping2.merge(outage2, on = ['Province', 'StartOfOutage'], how = 'left') "
   ]
  },
  {
   "cell_type": "code",
   "execution_count": null,
   "metadata": {},
   "outputs": [],
   "source": [
    "Outage_Grouping2['GroupNum'] = Outage_Grouping2['GroupNum']  + Outage_Grouping1['GroupNum'].max() + 1"
   ]
  },
  {
   "cell_type": "code",
   "execution_count": null,
   "metadata": {},
   "outputs": [],
   "source": [
    "SiteCount_Province = pd.read_excel(\"SITE COUNT (BSC-RNC-City-Province)_2G3G4G.xlsx\", sheet_name='Province')"
   ]
  },
  {
   "cell_type": "code",
   "execution_count": null,
   "metadata": {},
   "outputs": [],
   "source": [
    "Outage_Grouping2 = Outage_Grouping2.merge(SiteCount_Province[['Province Index', 'SITE_COUNT(30%)']], on = ['Province Index'], how = 'left')"
   ]
  },
  {
   "cell_type": "code",
   "execution_count": null,
   "metadata": {},
   "outputs": [],
   "source": []
  },
  {
   "cell_type": "code",
   "execution_count": null,
   "metadata": {},
   "outputs": [],
   "source": [
    "Ticket_Outage_Grouping = pd.concat([Outage_Grouping1, Outage_Grouping2], sort = True )"
   ]
  },
  {
   "cell_type": "code",
   "execution_count": null,
   "metadata": {},
   "outputs": [],
   "source": [
    "Ticket_Outage_Grouping = Ticket_Outage_Grouping[['CellName', 'Site', 'Location','Tech', 'BSC-RNC', 'Province Index','Province',\\\n",
    "                                                 'City','GroupNumPro','GroupNum','CountOfSitePerGroup','CountOfSitePerProvince', 'SITE_COUNT(30%)',\\\n",
    "                                                 'StartOfOutage','Down_Time(Seconds)','EndOfOutage', 'Impact','ENTRY_TicketNumber','TicketTitle',\\\n",
    "                                                 'TicketClosureType', 'RootCause','EventEnd','Health_Check','Exclude_Cause']]"
   ]
  },
  {
   "cell_type": "code",
   "execution_count": null,
   "metadata": {},
   "outputs": [],
   "source": []
  },
  {
   "cell_type": "code",
   "execution_count": null,
   "metadata": {},
   "outputs": [],
   "source": []
  },
  {
   "cell_type": "code",
   "execution_count": null,
   "metadata": {},
   "outputs": [],
   "source": []
  },
  {
   "cell_type": "code",
   "execution_count": null,
   "metadata": {},
   "outputs": [],
   "source": [
    "Ticket_Outage_Grouping.to_excel('Ticket_Outage_Grouping12July.xlsx', index = False, encoding = 'utf-8-sig')"
   ]
  },
  {
   "cell_type": "code",
   "execution_count": null,
   "metadata": {},
   "outputs": [],
   "source": [
    "Ticket_Outage_Grouping.columns"
   ]
  },
  {
   "cell_type": "code",
   "execution_count": null,
   "metadata": {},
   "outputs": [],
   "source": []
  }
 ],
 "metadata": {
  "kernelspec": {
   "display_name": "Python 3",
   "language": "python",
   "name": "python3"
  },
  "language_info": {
   "codemirror_mode": {
    "name": "ipython",
    "version": 3
   },
   "file_extension": ".py",
   "mimetype": "text/x-python",
   "name": "python",
   "nbconvert_exporter": "python",
   "pygments_lexer": "ipython3",
   "version": "3.7.4"
  }
 },
 "nbformat": 4,
 "nbformat_minor": 2
}
