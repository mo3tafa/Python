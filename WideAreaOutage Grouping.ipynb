{
 "cells": [
  {
   "cell_type": "code",
   "execution_count": null,
   "metadata": {},
   "outputs": [],
   "source": [
    "import pandas as pd\n",
    "import numpy as np\n",
    "#from pandas import ExcelWriter\n",
    "from math import floor\n",
    "import re"
   ]
  },
  {
   "cell_type": "code",
   "execution_count": null,
   "metadata": {},
   "outputs": [],
   "source": [
    "#df = pd.read_csv('Outputs/now_v2.csv')\n",
    "df = pd.read_excel('TTOP 06 Jun Up2.xlsx')   #WAO Daily\n",
    "df = df[((df['Impact']!= 'LEVEL4') & (df['Impact']!= 'MINOR'))]"
   ]
  },
  {
   "cell_type": "code",
   "execution_count": 1,
   "metadata": {},
   "outputs": [
    {
     "ename": "NameError",
     "evalue": "name 'df' is not defined",
     "output_type": "error",
     "traceback": [
      "\u001b[1;31m---------------------------------------------------------------------------\u001b[0m",
      "\u001b[1;31mNameError\u001b[0m                                 Traceback (most recent call last)",
      "\u001b[1;32m<ipython-input-1-0c9cf2f5b844>\u001b[0m in \u001b[0;36m<module>\u001b[1;34m\u001b[0m\n\u001b[0;32m      2\u001b[0m \u001b[1;33m\u001b[0m\u001b[0m\n\u001b[0;32m      3\u001b[0m \u001b[0mpat_name\u001b[0m \u001b[1;33m=\u001b[0m \u001b[1;34m'\\\\A[A-Z]{2}[1-9]*[GLU]{0,3}[0-9]{4}'\u001b[0m\u001b[1;33m;\u001b[0m \u001b[1;31m#'[A-F]{1}'\u001b[0m\u001b[1;33m\u001b[0m\u001b[1;33m\u001b[0m\u001b[0m\n\u001b[1;32m----> 4\u001b[1;33m \u001b[0mdf\u001b[0m\u001b[1;33m[\u001b[0m\u001b[1;34m'CellName'\u001b[0m\u001b[1;33m]\u001b[0m \u001b[1;33m=\u001b[0m \u001b[0mdf\u001b[0m\u001b[1;33m[\u001b[0m\u001b[1;34m'CellName'\u001b[0m\u001b[1;33m]\u001b[0m\u001b[1;33m.\u001b[0m\u001b[0mastype\u001b[0m\u001b[1;33m(\u001b[0m\u001b[0mstr\u001b[0m\u001b[1;33m)\u001b[0m\u001b[1;33m;\u001b[0m\u001b[1;33m\u001b[0m\u001b[1;33m\u001b[0m\u001b[0m\n\u001b[0m\u001b[0;32m      5\u001b[0m \u001b[0mdf\u001b[0m\u001b[1;33m[\u001b[0m\u001b[1;34m'CellName'\u001b[0m\u001b[1;33m]\u001b[0m \u001b[1;33m=\u001b[0m \u001b[0mdf\u001b[0m\u001b[1;33m[\u001b[0m\u001b[1;34m'CellName'\u001b[0m\u001b[1;33m]\u001b[0m\u001b[1;33m.\u001b[0m\u001b[0mstr\u001b[0m\u001b[1;33m.\u001b[0m\u001b[0mupper\u001b[0m\u001b[1;33m(\u001b[0m\u001b[1;33m)\u001b[0m\u001b[1;33m;\u001b[0m\u001b[1;33m\u001b[0m\u001b[1;33m\u001b[0m\u001b[0m\n\u001b[0;32m      6\u001b[0m \u001b[0mdf\u001b[0m\u001b[1;33m[\u001b[0m\u001b[1;34m'Sector'\u001b[0m\u001b[1;33m]\u001b[0m \u001b[1;33m=\u001b[0m \u001b[0mdf\u001b[0m\u001b[1;33m[\u001b[0m\u001b[1;34m'CellName'\u001b[0m\u001b[1;33m]\u001b[0m\u001b[1;33m.\u001b[0m\u001b[0mapply\u001b[0m\u001b[1;33m(\u001b[0m\u001b[1;32mlambda\u001b[0m \u001b[0mx\u001b[0m\u001b[1;33m:\u001b[0m  \u001b[1;34m''\u001b[0m\u001b[1;33m.\u001b[0m\u001b[0mjoin\u001b[0m\u001b[1;33m(\u001b[0m\u001b[0mre\u001b[0m\u001b[1;33m.\u001b[0m\u001b[0mfindall\u001b[0m\u001b[1;33m(\u001b[0m\u001b[0mpat_name\u001b[0m\u001b[1;33m,\u001b[0m \u001b[0mx\u001b[0m\u001b[1;33m)\u001b[0m\u001b[1;33m)\u001b[0m\u001b[1;33m)\u001b[0m\u001b[1;33m;\u001b[0m\u001b[1;33m\u001b[0m\u001b[1;33m\u001b[0m\u001b[0m\n",
      "\u001b[1;31mNameError\u001b[0m: name 'df' is not defined"
     ]
    }
   ],
   "source": [
    "pat_name = '\\\\A[A-Z]{2}[1-9]*[GLU]{0,3}[0-9]{4}'; #'[A-F]{1}'\n",
    "df['CellName'] = df['CellName'].astype(str);\n",
    "df['CellName'] = df['CellName'].str.upper();\n",
    "df['Sector'] = df['CellName'].apply(lambda x:  ''.join(re.findall(pat_name, x)));\n",
    "df = df[df['Sector'] != ''];\n",
    "df['Site']=np.where(len(df['Sector']) > 7, df['Sector'].str[:8], df['Sector'].str[:6]);\n",
    "df.drop(columns = ['Sector'], inplace = True)"
   ]
  },
  {
   "cell_type": "code",
   "execution_count": null,
   "metadata": {},
   "outputs": [],
   "source": [
    "df['StartOfOutage'] = pd.to_datetime(df['StartOfOutage'])\n",
    "df['EndOfOutage'] = pd.to_datetime(df['EndOfOutage'])\n",
    "df.loc[df['Tech']=='4G','NE'] = df.loc[df['Tech']=='4G','NE'] + '_LTE'"
   ]
  },
  {
   "cell_type": "code",
   "execution_count": null,
   "metadata": {},
   "outputs": [],
   "source": [
    "df.rename(columns={'Duration': 'Down_Time(Seconds)', 'NE': 'BSC-RNC'}, inplace = True)\n",
    "df.sort_values(by = ['BSC-RNC','StartOfOutage','Down_Time(Seconds)'], inplace = True)"
   ]
  },
  {
   "cell_type": "code",
   "execution_count": null,
   "metadata": {},
   "outputs": [],
   "source": [
    "#print(type(df['StartOfOutage'][0]))\n",
    "df2 = df[['StartOfOutage','Down_Time(Seconds)']].diff()#.dt.total_seconds()/3600\n",
    "df2.columns = ['d_st_hour','d_duration']"
   ]
  },
  {
   "cell_type": "code",
   "execution_count": null,
   "metadata": {},
   "outputs": [],
   "source": [
    "df['diff'] = (df['BSC-RNC'] != df['BSC-RNC'].shift(1).fillna(df['BSC-RNC'])).astype(int)"
   ]
  },
  {
   "cell_type": "code",
   "execution_count": null,
   "metadata": {},
   "outputs": [],
   "source": [
    "df = pd.concat([df, df2], axis = 1)"
   ]
  },
  {
   "cell_type": "code",
   "execution_count": null,
   "metadata": {},
   "outputs": [],
   "source": [
    "df['d_st_hour'] = df['d_st_hour'].dt.total_seconds()/3600\n",
    "df['d_duration'] = df['d_duration']/3600"
   ]
  },
  {
   "cell_type": "code",
   "execution_count": null,
   "metadata": {},
   "outputs": [],
   "source": [
    "df['change_flag'] = 0\n",
    "df[['d_st_hour','d_duration']] = df[['d_st_hour','d_duration']].fillna(0)"
   ]
  },
  {
   "cell_type": "code",
   "execution_count": null,
   "metadata": {},
   "outputs": [],
   "source": [
    "flag_old_grouping = False\n",
    "if flag_old_grouping:\n",
    "    df.loc[(df['d_st_hour'] != 0) | (df['d_duration'].abs()> np.minimum(1/6, 0.1 * df['Down_Time(Seconds)']/3600)),'change_flag'] = 1\n",
    "else: # new grouping\n",
    "    df.loc[(df['d_st_hour'] != 0) | (df['d_duration'].abs()> \\\n",
    "                                     np.minimum(1/3, \n",
    "                                                np.maximum(0.1,(4/75 + 7/25* df['Down_Time(Seconds)']/3600)) * df['Down_Time(Seconds)']/3600)),'change_flag'] = 1\n"
   ]
  },
  {
   "cell_type": "code",
   "execution_count": null,
   "metadata": {},
   "outputs": [],
   "source": [
    "#df_all['cs'] = df_all['change_flag'].cumsum()\n",
    "#df_all\n",
    "df['no'] = df.groupby(['BSC-RNC'])['change_flag'].cumsum()"
   ]
  },
  {
   "cell_type": "code",
   "execution_count": null,
   "metadata": {},
   "outputs": [],
   "source": [
    "#ddf = df[['BSC-RNC','StartOfOutage','Down_Time(Seconds)','diff','d_st_hour','d_duration','change_flag','no']]\n",
    "#ddf.to_csv('Outputs/wao_now.csv', index = False, encoding = 'utf-8-sig')"
   ]
  },
  {
   "cell_type": "code",
   "execution_count": null,
   "metadata": {},
   "outputs": [],
   "source": [
    "#print(df.head())\n",
    "df2 = df.copy()\n",
    "tdf = df.groupby(['BSC-RNC','no'])['Site'].nunique()#transform('nunique')"
   ]
  },
  {
   "cell_type": "code",
   "execution_count": null,
   "metadata": {},
   "outputs": [],
   "source": [
    "tdf = tdf.reset_index().reset_index()"
   ]
  },
  {
   "cell_type": "code",
   "execution_count": null,
   "metadata": {},
   "outputs": [],
   "source": [
    "tdf.rename(columns={'Site': 'NumSitePerGroup','index':'GroupNumber'}, inplace = True)"
   ]
  },
  {
   "cell_type": "code",
   "execution_count": null,
   "metadata": {},
   "outputs": [],
   "source": [
    "#print(tdf.head())\n",
    "#tdf.to_csv('wao_22.csv', index = False, encoding = 'utf-8-sig')\n",
    "# merge on no and BSC-RNC\n",
    "df = df.merge(tdf, left_on = ['BSC-RNC','no'], right_on = ['BSC-RNC','no'])"
   ]
  },
  {
   "cell_type": "code",
   "execution_count": null,
   "metadata": {},
   "outputs": [],
   "source": [
    "SITE_COUNT_BSC = pd.read_excel('../Create Ticket/Grouping/SITE COUNT (BSC-RNC-City-Province)_2G3G4G.xlsx',sheet_name='BSC')\n",
    "SITE_COUNT_RNC = pd.read_excel('../Create Ticket/Grouping/SITE COUNT (BSC-RNC-City-Province)_2G3G4G.xlsx',sheet_name='RNC')\n",
    "SITE_COUNT_EqRNC = pd.read_excel('../Create Ticket/Grouping/SITE COUNT (BSC-RNC-City-Province)_2G3G4G.xlsx',sheet_name='Equivalent RNC')\n",
    "SITE_COUNT_EqRNC['ElementID'] = SITE_COUNT_EqRNC['ElementID'] + '_LTE'\n",
    "SITE_COUNT_NE = pd.concat([SITE_COUNT_BSC, SITE_COUNT_RNC, SITE_COUNT_EqRNC], axis = 0, sort = True)\n",
    "SITE_COUNT_NE.rename(columns={'ElementID': 'BSC-RNC'}, inplace = True)\n",
    "SITE_COUNT_NE['SITE_COUNT(30%)'] = SITE_COUNT_NE['SITE_COUNT']*0.3"
   ]
  },
  {
   "cell_type": "code",
   "execution_count": null,
   "metadata": {},
   "outputs": [],
   "source": [
    "print('merging ...')\n",
    "df = df.merge(SITE_COUNT_NE, left_on = ['BSC-RNC'], right_on = ['BSC-RNC'], how = 'left')\n"
   ]
  },
  {
   "cell_type": "code",
   "execution_count": null,
   "metadata": {},
   "outputs": [],
   "source": [
    "df['outage_percent'] = df['NumSitePerGroup']/df['SITE_COUNT']"
   ]
  },
  {
   "cell_type": "code",
   "execution_count": null,
   "metadata": {},
   "outputs": [],
   "source": [
    "df.to_excel(r'Grouping/Outage_Grouping_NE_06Jun2.xlsx', index = False, encoding = 'utf-8-sig')"
   ]
  },
  {
   "cell_type": "code",
   "execution_count": null,
   "metadata": {},
   "outputs": [],
   "source": []
  },
  {
   "cell_type": "code",
   "execution_count": null,
   "metadata": {},
   "outputs": [],
   "source": []
  },
  {
   "cell_type": "code",
   "execution_count": null,
   "metadata": {},
   "outputs": [],
   "source": []
  },
  {
   "cell_type": "code",
   "execution_count": null,
   "metadata": {},
   "outputs": [],
   "source": []
  }
 ],
 "metadata": {
  "kernelspec": {
   "display_name": "Python 3",
   "language": "python",
   "name": "python3"
  },
  "language_info": {
   "codemirror_mode": {
    "name": "ipython",
    "version": 3
   },
   "file_extension": ".py",
   "mimetype": "text/x-python",
   "name": "python",
   "nbconvert_exporter": "python",
   "pygments_lexer": "ipython3",
   "version": "3.7.4"
  }
 },
 "nbformat": 4,
 "nbformat_minor": 2
}
