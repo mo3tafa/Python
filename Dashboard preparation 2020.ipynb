{
 "cells": [
  {
   "cell_type": "code",
   "execution_count": null,
   "metadata": {},
   "outputs": [],
   "source": [
    "import pandas as pd\n",
    "import numpy as np \n",
    "import datetime\n",
    "import re\n",
    "from math import floor\n",
    "from datetime import datetime,date,timedelta"
   ]
  },
  {
   "cell_type": "code",
   "execution_count": null,
   "metadata": {},
   "outputs": [],
   "source": [
    "data_path = '..//Data//'\n",
    "#### Input Outage: ##################\n",
    "# fn = 'Ticketed_Outage_Spring_21Jun.csv'\n",
    "# fn = 'Ticketed_Outage_Fall_27Feb.csv'\n",
    "# fn = '1398_Ticketed_Outage_Winter.csv'\n",
    "# fn = 'Ticketed_Outage_Spring_1399.csv'\n",
    "fn = 'Ticketed_Outage_Summer_till31July.csv'\n",
    "\n",
    "df_sn = pd.read_excel('../Data/Update_SiteNames.xlsx')\n",
    "df_all = pd.DataFrame()\n",
    "        \n",
    "df = pd.read_csv(data_path +  fn)\n",
    "df = df[['CellName', 'Location', 'Province', 'NE', 'StartOfOutage', 'EndOfOutage', 'Duration', 'Ddif', 'OG', 'CTAG', 'outage_number',\\\n",
    "       'outage_tag_number', 'Cell_Outage_Number', 'OutageGroup', 'Impact', 'LevelTag', 'ENTRY_TicketNumber', 'CC_TicketNumber', 'HC_TicketNumber',\\\n",
    "       'PE_TicketNumber', 'Alias_TicketNumber', 'CountOfOutageInGroup', 'Tag_Number', 'TicketTag', 'TicketGroup', 'TicketNumber',\\\n",
    "       'ExactMatchTicket', 'TicketTitle', 'TicketClosureType', 'RootCause', 'MainTicket', 'TicketCreate', 'TicketCreate_CoCurrent',\\\n",
    "       'Impact_Start_Date', 'Impact_Start_Date_ConCurrent', 'EventEnd', 'Health_Check', 'Concurrent_Tag', 'Exclude_Cause', 'Exclusion_Type',\\\n",
    "       'ST', 'IT', 'MTCT','Comments']] # Last JT Comment\n",
    "\n",
    "print(len(df))\n",
    "#####################################\n",
    "df['CellName'] = df['CellName'].astype(str)\n",
    "df['CellName'] = df['CellName'].str.upper()\n",
    "df['NE']=df['NE'].str.upper()\n",
    "df.loc[df['CellName'].str[:2] == 'XH' , 'CellName'] = 'TH' + df.loc[df['CellName'].str[:2] == 'XH' , 'CellName'].str[2:]\n",
    "\n",
    "## Regular expression(Regex)\n",
    "pat_name = '\\A[A-Z]{2}[1-9]*[GLU]{0,3}[0-9]{4}'#'[A-F]{1}'\n",
    "pat_tech = '[1-9]{1}[GLU]{1}'\n",
    "df['Sector'] = df['CellName'].apply(lambda x:  ''.join(re.findall(pat_name, x)))\n",
    "df = df[df['Sector'] != '']\n",
    "#Create SiteName\n",
    "df['Site']=np.where(len(df['Sector']) > 7, df['Sector'].str[:8], df['Sector'].str[:6])\n",
    "\n",
    "df['Location'] = df['Site'].apply(lambda x: re.sub(pat_tech,'',x))\n",
    "df = df[df['Location'] != '']\n",
    "\n",
    "df['Province'] = df['Site'].str[:2]\n",
    "############################################################################\n",
    "df['Tech'] = '2G'\n",
    "df['CellName'] = df['CellName'].str.upper()\n",
    "\n",
    "df.loc[df['CellName'].str[3]=='L','Tech'] = '4G'\n",
    "df.loc[df['CellName'].str[3]=='U','Tech'] = '3G'\n",
    "df.loc[df['CellName'].str[3]=='G','Tech'] = '2G'\n",
    "df.loc[df['CellName'].str[3:6]=='GUL','Tech'] = '4G'\n",
    "\n",
    "df.loc[df['Tech'] == '4G','NE'] = df.loc[df['Tech'] == '4G','NE'] + '_LTE' \n",
    "\n",
    "df = df[['CellName','Site','Location','Province','Tech','NE','StartOfOutage','Comments',\\\n",
    "        'EndOfOutage','Duration','ENTRY_TicketNumber','TicketTitle','TicketClosureType','RootCause','Exclude_Cause', 'Impact', 'LevelTag']]\n",
    "\n",
    "df['Down_Time(Days)'] = df['Duration']/(24*3600)\n",
    "df['Down_Time(Days)'] = df['Down_Time(Days)'].apply(np.floor)\n",
    "\n",
    "df = df.merge(df_sn[['Location','SiteName']],  left_on = 'Location', right_on = 'Location', how = 'left')\n",
    "\n",
    "aras = pd.read_excel('..//Data/Update_Aras.xlsx')\n",
    "df = df.merge(aras[['Location','Latitude','Longitude']], on = 'Location', how= 'left')\n",
    "\n",
    "df = df.rename(columns={'Comments' : 'Last Job Ticket Comment'}) #Last JT Comment\n",
    "\n",
    "# df.to_csv('New_Data/spring_old.csv', index=False, encoding='utf-8-sig')\n",
    "# df.to_csv('New_Data/fall_new.csv', index=False, encoding='utf-8-sig')\n",
    "# df.to_csv('New_Data/winter_new.csv', index=False, encoding='utf-8-sig')\n",
    "# df.to_csv('New_Data/spring_new.csv', index=False, encoding='utf-8-sig')\n",
    "df.to_csv('New_Data/summer_new.csv', index=False, encoding='utf-8-sig')"
   ]
  },
  {
   "cell_type": "code",
   "execution_count": null,
   "metadata": {},
   "outputs": [],
   "source": []
  },
  {
   "cell_type": "code",
   "execution_count": null,
   "metadata": {},
   "outputs": [],
   "source": [
    "data_path = 'New_Data/'\n",
    "D_spring99 = 'spring_new.csv'\n",
    "D_summer = 'summer_new.csv'\n",
    "\n",
    "spring99 = pd.read_csv(data_path + D_spring99)\n",
    "summer99 = pd.read_csv(data_path + D_summer)\n",
    "\n",
    "spring99 = spring99.rename(columns={'Last JT Comment' : 'Last Job Ticket Comment'}) #Last JT Comment\n",
    "summer99 = summer99.rename(columns={'Comments' : 'Last Job Ticket Comment'}) #Last JT Comment\n",
    "\n",
    "summer99['broken'] = 0\n",
    "spring99['broken'] = 0\n",
    "\n",
    "summer99.loc[summer99['EndOfOutage'] == '2020-06-20 23:00:00.000','broken'] = 1\n",
    "spring99.loc[spring99['StartOfOutage'] == '2020-06-21 00:00:00.000','broken'] = 1\n",
    "\n",
    "su_sp = pd.concat([summer99,spring99], axis = 0, sort = True)\n",
    "\n",
    "df_T = su_sp[su_sp['broken'] == 1].copy()\n",
    "df_T.sort_values(by = ['CellName','StartOfOutage','EndOfOutage'], inplace = True)\n",
    "\n",
    "df_T2 = df_T.groupby('CellName', as_index = False).agg({'StartOfOutage':'min','EndOfOutage':'max','Duration' : 'sum'})\n",
    "\n",
    "df_T.drop(['StartOfOutage','EndOfOutage','Duration'], axis = 1, inplace = True)\n",
    "df_T = df_T.merge(df_T2, left_on = ['CellName'], right_on = ['CellName'])\n",
    "df_T.drop_duplicates(subset =[\"CellName\",\"StartOfOutage\",\"EndOfOutage\",\"Duration\"],keep = 'first', inplace = True)\n",
    "\n",
    "su_sp = su_sp[su_sp['broken']==0]\n",
    "su_sp = pd.concat([su_sp,df_T], axis = 0, sort = True)\n",
    "\n",
    "su_sp['Down_Time(Days)'] = su_sp['Duration']/(24*3600)\n",
    "su_sp['Down_Time(Days)'] = su_sp['Down_Time(Days)'].apply(np.floor)\n",
    "\n",
    "\n",
    "wao_flag = True\n",
    "if wao_flag:\n",
    "    Total_seasons = su_sp.copy()\n",
    "    #Total_seasons = Total_seasons[Total_seasons['Duration']>=(3*60)] ## Duration > 3 min\n",
    "    Total_seasons['Down_Time(hour)'] = Total_seasons['Duration']/(1*3600)\n",
    "    Total_seasons['Down_Time(hour)'] = Total_seasons['Down_Time(hour)'].apply(np.floor)\n",
    "    Total_seasons.to_csv('Outputs/Ticket_DetailOutage(Seconds).csv', index=False, encoding='utf-8-sig')\n",
    "else:\n",
    "    Total_seasons = su_sp[su_sp['Duration']>=(24*3600)]\n",
    "    Total_seasons.to_csv('Outputs/Ticket_DetailOutage(Daily).csv', index=False, encoding='utf-8-sig')"
   ]
  },
  {
   "cell_type": "markdown",
   "metadata": {},
   "source": [
    "### ROOT CAUSE:"
   ]
  },
  {
   "cell_type": "code",
   "execution_count": null,
   "metadata": {},
   "outputs": [],
   "source": [
    "######## Root Cause: Ticket Open ###################\n",
    "ticket_open = pd.read_excel('Inputs/Ticket Open_31July.xls',sheet_name='Sheet1') #Read Ticket Open\n",
    "Ticket_DetailOutage = pd.read_csv(r'Outputs/Ticket_DetailOutage(Seconds).csv') #Read Ticket_DetailOutage(Seconds)\n",
    "# Ticket_DetailOutage = pd.read_csv(r'Outputs/Ticket_DetailOutage(Daily).csv') #Read Ticket_DetailOutage(Daily)\n",
    "\n",
    "# Step 1: List Ticket Open\n",
    "ticket_open['Tick'] = 1\n",
    "Ticket_DetailOutage = Ticket_DetailOutage.merge(ticket_open[['Tick','TICKET_NUMBER']],left_on=['ENTRY_TicketNumber'],right_on=['TICKET_NUMBER'],how='left')\n",
    "Ticket_DetailOutage.drop('TICKET_NUMBER',axis = 1,inplace=True)\n",
    "Ticket_DetailOutage['Tick'] = Ticket_DetailOutage['Tick'].fillna(0)\n",
    "Ticket_DetailOutage.loc[((Ticket_DetailOutage['TicketClosureType'].isnull() == True) & (dfo['Tick'] == 1)) , 'TicketClosureType'] = 'OTHERS-TICKET OPEN' \n",
    "\n",
    "# Step 2: Outages last day without review\n",
    "dfo1 = Ticket_DetailOutage[['TicketClosureType','EndOfOutage']]\n",
    "flag = ((dfo1['TicketClosureType'].isnull() == True) | (dfo1['TicketClosureType'] == 'OTHERS-UNKNOWN ISSUE') |(dfo1['TicketClosureType'] == 'OTHERS-ESCALATE TO VENDOR') |\\\n",
    "       (dfo1['TicketClosureType'] == 'OTHERS-HC-FO-UNKNOWN ISSUE') |(dfo1['TicketClosureType'] == 'OTHERS-AUTO RESTORE'))\n",
    "flag2 = (dfo1['EndOfOutage'] == Ticket_DetailOutage['EndOfOutage'].max())\n",
    "dfo1['Ticket'] = 0\n",
    "dfo1.loc[(flag & flag2) , 'Ticket'] = 1 \n",
    "dfo1.loc[dfo1['Ticket'] == 1 , 'TicketClosureType'] = 'OTHERS-TICKET OPEN' \n",
    "Ticket_DetailOutage['TicketClosureType'] = dfo1['TicketClosureType']\n",
    "Ticket_DetailOutage.loc[Ticket_DetailOutage['TicketClosureType'].isnull()==True, 'TicketClosureType'] = 'UNKNOWN'\n",
    "Ticket_DetailOutage.loc[Ticket_DetailOutage['TicketClosureType'] == 'UNKNOWN', 'RootCause'] = 'UNKNOWN ISSUE'\n",
    "Ticket_DetailOutage.loc[Ticket_DetailOutage['TicketClosureType'] == 'OTHERS-TICKET OPEN', 'RootCause'] = 'TICKET OPEN'\n",
    "######## Root Cause: BACK OFFICE ACTION ###################\n",
    "Ticket_DetailOutage.loc[((Ticket_DetailOutage['RootCause'] == 'BACK OFFICE ACTION') & ((Ticket_DetailOutage['TicketClosureType'] == 'UNKNOWN') | (Ticket_DetailOutage['TicketClosureType'].isnull() == True))), 'TicketClosureType'] = 'BACK OFFICE ACTION'\n",
    "\n",
    "######## Root Cause:   ###################\n",
    "Ticket_DetailOutage.loc[Ticket_DetailOutage['TicketTitle'].str[0:2] == 'NI', 'TicketClosureType'] = 'NEW SITE' # & (dfo['TicketClosureType']!='OTHERS-TICKET OPEN')\n",
    "Ticket_DetailOutage.loc[((Ticket_DetailOutage['TicketClosureType'] == \"NEW SITE\")) , 'RootCause'] = 'NEW SITE'\n",
    "Ticket_DetailOutage.loc[((Ticket_DetailOutage['TicketClosureType'] == \"OTHERS-VANDALISM\")) , 'RootCause'] = 'VANDALISM' \n",
    "Ticket_DetailOutage.loc[((Ticket_DetailOutage['TicketClosureType'] == \"ENVIRONMENT- TCT AIR CONDITION ISSUE\") | \\\n",
    "         (Ticket_DetailOutage['TicketClosureType'] == \"ENVIRONMENT-FREE COOLING FAULTY\") | \\\n",
    "         (Ticket_DetailOutage['TicketClosureType'] == \"ENVIRONMENT-OUTDOOR BTS COOLING SYSTEM\")) , 'RootCause'] = 'ENVIRONMENT'"
   ]
  },
  {
   "cell_type": "markdown",
   "metadata": {},
   "source": [
    "### Shamsi Date:"
   ]
  },
  {
   "cell_type": "code",
   "execution_count": null,
   "metadata": {},
   "outputs": [],
   "source": [
    "from datetime import datetime,date,timedelta\n",
    "import dateutil.parser\n",
    "\n",
    "\n",
    "Dim = pd.read_csv('Full_DimDate.csv')   \n",
    "Dim['Miladi'] = pd.to_datetime(Dim['Miladi']).dt.date\n",
    "\n",
    "Ticket_DetailOutage['StartDate'] = pd.to_datetime(Ticket_DetailOutage['StartOfOutage']).dt.date\n",
    "Ticket_DetailOutage['EndDate'] = pd.to_datetime(Ticket_DetailOutage['EndOfOutage']).dt.date\n",
    "\n",
    "Ticket_DetailOutage = Ticket_DetailOutage.merge(Dim[['Miladi','Jalali']],left_on=['StartDate'],right_on=['Miladi'],how='left')\n",
    "Ticket_DetailOutage.drop(['StartDate','Miladi'],axis = 1,inplace=True)\n",
    "Ticket_DetailOutage.rename(columns={'Jalali': 'StartOfOutageP'}, inplace = True)\n",
    "\n",
    "Ticket_DetailOutage = Ticket_DetailOutage.merge(Dim[['Miladi','Jalali']],left_on=['EndDate'],right_on=['Miladi'],how='left')\n",
    "Ticket_DetailOutage.drop(['EndDate','Miladi'],axis = 1,inplace=True)\n",
    "Ticket_DetailOutage.rename(columns={'Jalali': 'EndOfOutageP'}, inplace = True)"
   ]
  },
  {
   "cell_type": "markdown",
   "metadata": {},
   "source": [
    "### POWER TYPE"
   ]
  },
  {
   "cell_type": "code",
   "execution_count": null,
   "metadata": {},
   "outputs": [],
   "source": [
    "BTS_Nodes = pd.read_excel('BTS-Nodes-202005301211.xlsx',sheet_name='Location')\n",
    "BTS_Nodes = BTS_Nodes[['نوع برق','کد سایت','نوع لینک']]\n",
    "BTS_Nodes.rename(columns={'کد سایت': 'Location'}, inplace = True)\n",
    "\n",
    "Ticket_DetailOutage = Ticket_DetailOutage.merge(BTS_Nodes, left_on = ['Location'], right_on = ['Location'], how = 'left')"
   ]
  },
  {
   "cell_type": "markdown",
   "metadata": {},
   "source": [
    "### Output"
   ]
  },
  {
   "cell_type": "code",
   "execution_count": null,
   "metadata": {},
   "outputs": [],
   "source": [
    "Ticket_DetailOutage.to_csv('Outputs/Outage_Duration_Analysis(Seconds).csv', index=False, encoding='utf-8-sig') #Outage_Duration_Analysis(Seconds)"
   ]
  }
 ],
 "metadata": {
  "kernelspec": {
   "display_name": "Python 3",
   "language": "python",
   "name": "python3"
  },
  "language_info": {
   "codemirror_mode": {
    "name": "ipython",
    "version": 3
   },
   "file_extension": ".py",
   "mimetype": "text/x-python",
   "name": "python",
   "nbconvert_exporter": "python",
   "pygments_lexer": "ipython3",
   "version": "3.7.4"
  }
 },
 "nbformat": 4,
 "nbformat_minor": 2
}
