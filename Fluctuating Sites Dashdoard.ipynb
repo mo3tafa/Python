{
 "cells": [
  {
   "cell_type": "code",
   "execution_count": 1,
   "metadata": {},
   "outputs": [],
   "source": [
    "import pandas as pd\n",
    "import numpy as np\n",
    "import datetime as dt\n",
    "import datetime \n",
    "import re\n",
    "from math import floor"
   ]
  },
  {
   "cell_type": "code",
   "execution_count": null,
   "metadata": {},
   "outputs": [],
   "source": [
    "#DetailOutage = pd.read_excel('DetailOutage(13Mar-11Apr).xlsx')\n",
    "#print(DetailOutage['StartOfOutage'].min())\n",
    "#print(DetailOutage['StartOfOutage'].max())"
   ]
  },
  {
   "cell_type": "code",
   "execution_count": 3,
   "metadata": {},
   "outputs": [],
   "source": [
    "DetailOutage2g = pd.read_excel('Input//DetailOutage2G.xlsx')\n",
    "DetailOutage3g = pd.read_excel('Input//DetailOutage3G.xlsx')\n",
    "DetailOutage4g = pd.read_excel('Input//DetailOutage4G.xlsx')\n",
    "NumberOfCellsPerSite = pd.read_excel('Number of Cells Per Site-2G3G4G.xlsx', sheet_name = 'Sheet1')\n",
    "CellReff = pd.read_excel('Cell Reff.xlsx', sheet_name = 'Sheet1')"
   ]
  },
  {
   "cell_type": "code",
   "execution_count": 4,
   "metadata": {},
   "outputs": [],
   "source": [
    "# concat 3 technology\n",
    "DetailOutage = pd.concat([DetailOutage2g, DetailOutage3g, DetailOutage4g], axis = 0, sort = True)\n",
    "DetailOutage['CellName'] = DetailOutage['CellName'].astype(str)"
   ]
  },
  {
   "cell_type": "code",
   "execution_count": 5,
   "metadata": {},
   "outputs": [],
   "source": [
    "#Sort by StartOfOutage and then CellName \n",
    "DetailOutage = DetailOutage.sort_values(by = ['StartOfOutage'], ascending=True)\n",
    "DetailOutage = DetailOutage.sort_values(by = ['CellName'], ascending=True)"
   ]
  },
  {
   "cell_type": "code",
   "execution_count": 6,
   "metadata": {},
   "outputs": [],
   "source": [
    "#Delete incorrect Cell_Names(Numbers, TEST, MCIKANA,...)\n",
    "pat_name = '\\A[A-Z]{2}[1-9]*[GLU]{0,3}[0-9]{4}'#'[A-F]{1}'\n",
    "DetailOutage['CellName'] = DetailOutage['CellName'].astype(str)\n",
    "DetailOutage['CellName'] = DetailOutage['CellName'].str.upper()\n",
    "DetailOutage['Sector'] = DetailOutage['CellName'].apply(lambda x:  ''.join(re.findall(pat_name, x)))\n",
    "DetailOutage = DetailOutage[DetailOutage['Sector'] != '']\n",
    "#Create SiteName\n",
    "DetailOutage['SiteName']=np.where(len(DetailOutage['Sector']) > 7, DetailOutage['Sector'].str[:8], DetailOutage['Sector'].str[:6])\n",
    "DetailOutage = DetailOutage[['SiteName','CellName','Location','NE','Technology','Province Index','StartOfOutage','EndOfOutage','Down_Time(Seconds)','Hour']]"
   ]
  },
  {
   "cell_type": "code",
   "execution_count": null,
   "metadata": {},
   "outputs": [],
   "source": [
    "DetailOutage['Province Index'] = DetailOutage['SiteName'].str[:2]"
   ]
  },
  {
   "cell_type": "code",
   "execution_count": 9,
   "metadata": {},
   "outputs": [],
   "source": [
    "pat_tech = '[1-9]{1}[GLU]{1}'\n",
    "DetailOutage['Location'] = DetailOutage['SiteName'].apply(lambda x: re.sub(pat_tech,'',x))\n",
    "DetailOutage = DetailOutage[DetailOutage['Location'] != '']"
   ]
  },
  {
   "cell_type": "code",
   "execution_count": 10,
   "metadata": {},
   "outputs": [],
   "source": [
    "#Create Outage Day\n",
    "##a = DetailOutage\n",
    "##a['st'] = pd.to_datetime(DetailOutage['StartOfOutage']).astype(str).str[:11] + '00:00:00'\n",
    "##DetailOutage['StartOfOutage'] = pd.to_datetime(a['st'])\n",
    "##Timestamp.combine(date, time)\n",
    "DetailOutage['Outage Day'] = pd.to_datetime(DetailOutage['StartOfOutage']).dt.date"
   ]
  },
  {
   "cell_type": "code",
   "execution_count": 11,
   "metadata": {},
   "outputs": [
    {
     "name": "stderr",
     "output_type": "stream",
     "text": [
      "C:\\ProgramData\\Anaconda3\\lib\\site-packages\\ipykernel_launcher.py:3: SettingWithCopyWarning: \n",
      "A value is trying to be set on a copy of a slice from a DataFrame.\n",
      "Try using .loc[row_indexer,col_indexer] = value instead\n",
      "\n",
      "See the caveats in the documentation: http://pandas.pydata.org/pandas-docs/stable/user_guide/indexing.html#returning-a-view-versus-a-copy\n",
      "  This is separate from the ipykernel package so we can avoid doing imports until\n",
      "C:\\ProgramData\\Anaconda3\\lib\\site-packages\\ipykernel_launcher.py:4: SettingWithCopyWarning: \n",
      "A value is trying to be set on a copy of a slice from a DataFrame.\n",
      "Try using .loc[row_indexer,col_indexer] = value instead\n",
      "\n",
      "See the caveats in the documentation: http://pandas.pydata.org/pandas-docs/stable/user_guide/indexing.html#returning-a-view-versus-a-copy\n",
      "  after removing the cwd from sys.path.\n"
     ]
    }
   ],
   "source": [
    "#Create Down_Count\n",
    "DetailOutageUp60ns = DetailOutage[DetailOutage['Down_Time(Seconds)'] > 60]\n",
    "DetailOutageUp60ns['Down_Count'] = 1\n",
    "DetailOutageUp60ns['Sum_Down_Time'] = DetailOutageUp60ns['Down_Time(Seconds)']\n",
    "DetailOutage2 = DetailOutageUp60ns.groupby(['CellName','Outage Day'], as_index = False).agg({'Down_Count':'sum','Sum_Down_Time' : 'sum'})\n",
    "DetailOutageUp60ns = DetailOutageUp60ns.drop(['Down_Count','Sum_Down_Time'], axis = 1)\n",
    "DetailOutageUp60ns = DetailOutageUp60ns.merge(DetailOutage2, on = ['CellName','Outage Day'], how = 'left')\n",
    "#Remove Duplicates on CellName and OutageDay\n",
    "DetailOutageUp60ns = DetailOutageUp60ns.drop_duplicates(subset =['CellName','Outage Day'],keep = 'first')\n"
   ]
  },
  {
   "cell_type": "code",
   "execution_count": 12,
   "metadata": {},
   "outputs": [],
   "source": [
    "############متوسط تعداد قطعی سلهای هر سایت در یک روز \n",
    "DetailOutageUp60ns['AVG_Down_Count_Cell_PerDay'] = DetailOutageUp60ns['Down_Count']\n",
    "DetailOutage3 = DetailOutageUp60ns.groupby(['SiteName','Outage Day'], as_index = False).agg({'AVG_Down_Count_Cell_PerDay':'mean'})\n",
    "DetailOutageUp60ns = DetailOutageUp60ns.drop(['AVG_Down_Count_Cell_PerDay'], axis = 1)\n",
    "DetailOutageUp60ns = DetailOutageUp60ns.merge(DetailOutage3, on = ['SiteName','Outage Day'], how = 'left')"
   ]
  },
  {
   "cell_type": "code",
   "execution_count": 13,
   "metadata": {},
   "outputs": [],
   "source": [
    "#Filter on \"Down Count\" for more than or equalt to 2\n",
    "DetailOutageUp60nsUp2DC = DetailOutageUp60ns[DetailOutageUp60ns['Down_Count'] > 1]"
   ]
  },
  {
   "cell_type": "code",
   "execution_count": 14,
   "metadata": {},
   "outputs": [],
   "source": [
    "#Site Level\n",
    "##Average Per Cell\n",
    "###Sort on \"Outage Day\" from oldest to Newest.\n",
    "DetailOutageUp60nsUp2DC = DetailOutageUp60nsUp2DC.sort_values(by = ['Outage Day'])\n",
    "###Sort on \"Site Name\" from A to Z.\n",
    "DetailOutageUp60nsUp2DC = DetailOutageUp60nsUp2DC.sort_values(by = ['SiteName'])"
   ]
  },
  {
   "cell_type": "code",
   "execution_count": 15,
   "metadata": {},
   "outputs": [],
   "source": [
    "#Calculate the \"_Fluc_Cellof_each_Site\",\"AVG Down Count PER CELL\" and \" AVG (Sum Down Time(Second)) PER CELL\"\n",
    "DetailOutageUp60nsUp2DC['Fluc_Cellof_each_Site'] = 1\n",
    "DetailOutageUp60nsUp2DC_PC = DetailOutageUp60nsUp2DC.groupby(['SiteName','Outage Day'], as_index = False).agg({'Down_Count':'mean','Sum_Down_Time' : 'mean', 'Fluc_Cellof_each_Site' : 'sum'})\n",
    "DetailOutageUp60nsUp2DC_PerCell = DetailOutageUp60nsUp2DC.drop(['Down_Count','Sum_Down_Time', 'Fluc_Cellof_each_Site'], axis = 1)\n",
    "DetailOutageUp60nsUp2DC_PerCell = DetailOutageUp60nsUp2DC_PerCell.merge(DetailOutageUp60nsUp2DC_PC, on = ['SiteName','Outage Day'], how = 'left')\n",
    "#Remove Duplicates on SiteName and OutageDay\n",
    "DetailOutageUp60nsUp2DC_PerCell = DetailOutageUp60nsUp2DC_PerCell.drop_duplicates(subset =['SiteName','Outage Day'],keep = 'first')"
   ]
  },
  {
   "cell_type": "code",
   "execution_count": 16,
   "metadata": {},
   "outputs": [],
   "source": [
    "#Add Number Of Cells Per Site\n",
    "DetailOutageUp60nsUp2DC_PerCell = DetailOutageUp60nsUp2DC_PerCell.merge(NumberOfCellsPerSite, on = ['SiteName'], how = 'left')"
   ]
  },
  {
   "cell_type": "code",
   "execution_count": 17,
   "metadata": {},
   "outputs": [],
   "source": [
    "# Outage(Site Level Or Cell Level)\n",
    "DetailOutageUp60nsUp2DC_PerCell['Site or Cell']=np.where(DetailOutageUp60nsUp2DC_PerCell['Fluc_Cellof_each_Site'] > (0.75 * DetailOutageUp60nsUp2DC_PerCell['Cell_Per_Site']), 'SITE', 'CELL')"
   ]
  },
  {
   "cell_type": "code",
   "execution_count": 18,
   "metadata": {},
   "outputs": [],
   "source": [
    "#Filter on\"SITE\" \n",
    "DetailOutageUp60nsUp2DC_PerCell_SITE = DetailOutageUp60nsUp2DC_PerCell[DetailOutageUp60nsUp2DC_PerCell['Site or Cell'] == 'SITE']"
   ]
  },
  {
   "cell_type": "code",
   "execution_count": 19,
   "metadata": {},
   "outputs": [
    {
     "name": "stderr",
     "output_type": "stream",
     "text": [
      "C:\\ProgramData\\Anaconda3\\lib\\site-packages\\ipykernel_launcher.py:1: SettingWithCopyWarning: \n",
      "A value is trying to be set on a copy of a slice from a DataFrame.\n",
      "Try using .loc[row_indexer,col_indexer] = value instead\n",
      "\n",
      "See the caveats in the documentation: http://pandas.pydata.org/pandas-docs/stable/user_guide/indexing.html#returning-a-view-versus-a-copy\n",
      "  \"\"\"Entry point for launching an IPython kernel.\n",
      "C:\\ProgramData\\Anaconda3\\lib\\site-packages\\ipykernel_launcher.py:2: SettingWithCopyWarning: \n",
      "A value is trying to be set on a copy of a slice from a DataFrame.\n",
      "Try using .loc[row_indexer,col_indexer] = value instead\n",
      "\n",
      "See the caveats in the documentation: http://pandas.pydata.org/pandas-docs/stable/user_guide/indexing.html#returning-a-view-versus-a-copy\n",
      "  \n"
     ]
    }
   ],
   "source": [
    "DetailOutageUp60nsUp2DC_PerCell_SITE['NumOfFlucDay'] = 1\n",
    "DetailOutageUp60nsUp2DC_PerCell_SITE['AvgNumOfOutagePerDay'] = DetailOutageUp60nsUp2DC_PerCell_SITE['AVG_Down_Count_Cell_PerDay']\n",
    "DetailOutageUp60nsUp2DC_PerCell_S = DetailOutageUp60nsUp2DC_PerCell_SITE.groupby(['SiteName'], as_index = False).agg({'NumOfFlucDay' : 'sum', 'AvgNumOfOutagePerDay' : 'mean'})\n",
    "DetailOutageUp60nsUp2DC_PerCell_SITE = DetailOutageUp60nsUp2DC_PerCell_SITE.drop(['NumOfFlucDay', 'AvgNumOfOutagePerDay'], axis = 1)\n",
    "DetailOutageUp60nsUp2DC_PerCell_SITE = DetailOutageUp60nsUp2DC_PerCell_SITE.merge(DetailOutageUp60nsUp2DC_PerCell_S, on = ['SiteName'], how = 'left')\n",
    "DetailOutageUp60nsUp2DC_PerCell_SITE['AvgNumOfOutagePerDay'] = DetailOutageUp60nsUp2DC_PerCell_SITE['AvgNumOfOutagePerDay'].apply(np.floor)"
   ]
  },
  {
   "cell_type": "code",
   "execution_count": 20,
   "metadata": {},
   "outputs": [],
   "source": [
    "DetailOutageUp60nsUp2DC_PerCell_SITE['AvgNumOfOutagePerDay'] = DetailOutageUp60nsUp2DC_PerCell_SITE['AvgNumOfOutagePerDay'].apply(np.ceil)"
   ]
  },
  {
   "cell_type": "code",
   "execution_count": 21,
   "metadata": {},
   "outputs": [],
   "source": [
    "##check 'NumOfFlucDay'  should be less than 30\n",
    "#DetailOutageUp60nsUp2DC_PerCell_SITE[DetailOutageUp60nsUp2DC_PerCell_SITE['NumOfFlucDay'] > 30]\n",
    "##check 'AvgNumOfOutagePerDay'  should be less than 24\n",
    "#DetailOutageUp60nsUp2DC_PerCell_SITE[DetailOutageUp60nsUp2DC_PerCell_SITE['AvgNumOfOutagePerDay'] > 24]"
   ]
  },
  {
   "cell_type": "code",
   "execution_count": 22,
   "metadata": {},
   "outputs": [],
   "source": [
    "#Remove Duplicates on \"Site Name\"\n",
    "DetailOutageUp60nsUp2DC_PerCell_SITE_Loc = DetailOutageUp60nsUp2DC_PerCell_SITE.drop_duplicates(subset =['SiteName'],keep = 'first')"
   ]
  },
  {
   "cell_type": "code",
   "execution_count": 23,
   "metadata": {},
   "outputs": [],
   "source": [
    "#Filter on \"#_Flactuating_Daysof each_Site\" for \"more than 5\"\n",
    "DetailOutageUp60nsUp2DC_PerCell_SITE_Up5Day = DetailOutageUp60nsUp2DC_PerCell_SITE_Loc[DetailOutageUp60nsUp2DC_PerCell_SITE_Loc['NumOfFlucDay'] > 4]"
   ]
  },
  {
   "cell_type": "code",
   "execution_count": 24,
   "metadata": {},
   "outputs": [
    {
     "name": "stderr",
     "output_type": "stream",
     "text": [
      "C:\\ProgramData\\Anaconda3\\lib\\site-packages\\ipykernel_launcher.py:4: SettingWithCopyWarning: \n",
      "A value is trying to be set on a copy of a slice from a DataFrame.\n",
      "Try using .loc[row_indexer,col_indexer] = value instead\n",
      "\n",
      "See the caveats in the documentation: http://pandas.pydata.org/pandas-docs/stable/user_guide/indexing.html#returning-a-view-versus-a-copy\n",
      "  after removing the cwd from sys.path.\n"
     ]
    }
   ],
   "source": [
    "#Add TAG Number Of Fluctuating Day\n",
    "DetailOutageUp60nsUp2DC_PerCell_SITE_Up5Day['TAG'] = np.where(DetailOutageUp60nsUp2DC_PerCell_SITE_Up5Day['NumOfFlucDay'] <= 10,'05 to 10 day',\\\n",
    "                                                     np.where(DetailOutageUp60nsUp2DC_PerCell_SITE_Up5Day['NumOfFlucDay'] <= 20,'11 to 20 day',\\\n",
    "                                                                                                                                '21 to 30 day'))"
   ]
  },
  {
   "cell_type": "code",
   "execution_count": 25,
   "metadata": {},
   "outputs": [],
   "source": [
    "# Add Lat&Long and Category\n",
    "DetailOutageUp60nsUp2DC_PerCell_SITE_Up5Day = DetailOutageUp60nsUp2DC_PerCell_SITE_Up5Day.merge(CellReff, on = ['Location'], how = 'left')"
   ]
  },
  {
   "cell_type": "code",
   "execution_count": 27,
   "metadata": {},
   "outputs": [],
   "source": [
    "DetailOutageUp60nsUp2DC_PerCell_SITE_Up5Day.to_excel('Output//DetailOutageUp60nsUp2DC_PerCell_SITE_Up5Day.xlsx', index=False, encoding='utf-8-sig')"
   ]
  },
  {
   "cell_type": "code",
   "execution_count": 30,
   "metadata": {},
   "outputs": [],
   "source": [
    "# Create Proince:\n",
    "DetailOutageUp60nsUp2DC_PerCell_SITE_Up5Day['Between 05 and 10 days'] = np.where(DetailOutageUp60nsUp2DC_PerCell_SITE_Up5Day['TAG'] == '05 to 10 day', 1, 0)\n",
    "DetailOutageUp60nsUp2DC_PerCell_SITE_Up5Day['Between 11 and 20 days'] = np.where(DetailOutageUp60nsUp2DC_PerCell_SITE_Up5Day['TAG'] == '11 to 20 day', 1, 0)\n",
    "DetailOutageUp60nsUp2DC_PerCell_SITE_Up5Day['Between 21 and 30 days'] = np.where(DetailOutageUp60nsUp2DC_PerCell_SITE_Up5Day['TAG'] == '21 to 30 day', 1, 0)\n",
    "\n",
    "Province = DetailOutageUp60nsUp2DC_PerCell_SITE_Up5Day.groupby(['Province Index'], as_index = False).agg({'Between 05 and 10 days' : 'sum', 'Between 11 and 20 days' : 'sum', 'Between 21 and 30 days' : 'sum'})\n",
    "Province['Grand Total'] = Province['Between 05 and 10 days'] + Province['Between 11 and 20 days'] + Province['Between 21 and 30 days']\n",
    "Province.to_excel('Output//DetailOutageUp60nsUp2DC_PerCell_SITE_Province(13Mar_11Apr).xlsx', index=False, encoding='utf-8-sig')"
   ]
  },
  {
   "cell_type": "code",
   "execution_count": 31,
   "metadata": {},
   "outputs": [],
   "source": [
    "#Create Dashboard\n",
    "DetailOutageUp60nsUp2DC_PerCell_SITE_Up5Day = DetailOutageUp60nsUp2DC_PerCell_SITE_Up5Day[['SiteName','CellName','Location','Province Index','Technology','NumOfFlucDay','AvgNumOfOutagePerDay','TAG','Between 05 and 10 days','Between 11 and 20 days','Between 21 and 30 days','Latitude','Longitude','Category','Site Type','Name']]\n",
    "###Sort on \"AvgNumOfOutagePerDay\" from Largest to Smalest.\n",
    "DetailOutageUp60nsUp2DC_PerCell_SITE_Up5Day = DetailOutageUp60nsUp2DC_PerCell_SITE_Up5Day.sort_values(by = ['AvgNumOfOutagePerDay'], ascending = False)\n",
    "###Sort on \"NumOfFlucDay\" from Largest to Smalest.\n",
    "DetailOutageUp60nsUp2DC_PerCell_SITE_Up5Day = DetailOutageUp60nsUp2DC_PerCell_SITE_Up5Day.sort_values(by = ['NumOfFlucDay'], ascending = False)\n",
    "###Sort on \"TAG\" from Z to A.\n",
    "DetailOutageUp60nsUp2DC_PerCell_SITE_Up5Day = DetailOutageUp60nsUp2DC_PerCell_SITE_Up5Day.sort_values(by = ['TAG'], ascending = False)\n",
    "#Remove Duplicates on \"Location\"\n",
    "DetailOutageUp60nsUp2DC_PerCell_SITE_Locs = DetailOutageUp60nsUp2DC_PerCell_SITE_Up5Day.drop_duplicates(subset =['Location'],keep = 'first')\n",
    "\n",
    "col = ['Location','2G Site','3G Site','4G Site','Golden Site','City Site','Road Site']\n",
    "ind = ['Between 05 and 10 days','Between 11 and 20 days','Between 21 and 30 days'] \n",
    "Dashboard = pd.DataFrame(columns=col,index=ind)\n",
    "\n",
    "Dashboard['Location']['Between 05 and 10 days'] = DetailOutageUp60nsUp2DC_PerCell_SITE_Locs.loc[DetailOutageUp60nsUp2DC_PerCell_SITE_Locs['Between 05 and 10 days'] != 0,'Location'].count()\n",
    "Dashboard['Location']['Between 11 and 20 days'] = DetailOutageUp60nsUp2DC_PerCell_SITE_Locs.loc[DetailOutageUp60nsUp2DC_PerCell_SITE_Locs['Between 11 and 20 days'] != 0,'Location'].count()\n",
    "Dashboard['Location']['Between 21 and 30 days'] = DetailOutageUp60nsUp2DC_PerCell_SITE_Locs.loc[DetailOutageUp60nsUp2DC_PerCell_SITE_Locs['Between 21 and 30 days'] != 0,'Location'].count()\n",
    "\n",
    "###2G Site:\n",
    "Dashboard['2G Site']['Between 05 and 10 days'] = DetailOutageUp60nsUp2DC_PerCell_SITE_Up5Day.loc[((DetailOutageUp60nsUp2DC_PerCell_SITE_Up5Day['Between 05 and 10 days'] != 0) & (DetailOutageUp60nsUp2DC_PerCell_SITE_Up5Day['Technology'] == '2G')),'Between 05 and 10 days'].sum()\n",
    "Dashboard['2G Site']['Between 11 and 20 days'] = DetailOutageUp60nsUp2DC_PerCell_SITE_Up5Day.loc[((DetailOutageUp60nsUp2DC_PerCell_SITE_Up5Day['Between 11 and 20 days'] != 0) & (DetailOutageUp60nsUp2DC_PerCell_SITE_Up5Day['Technology'] == '2G')),'Between 11 and 20 days'].sum()\n",
    "Dashboard['2G Site']['Between 21 and 30 days'] = DetailOutageUp60nsUp2DC_PerCell_SITE_Up5Day.loc[((DetailOutageUp60nsUp2DC_PerCell_SITE_Up5Day['Between 21 and 30 days'] != 0) & (DetailOutageUp60nsUp2DC_PerCell_SITE_Up5Day['Technology'] == '2G')),'Between 21 and 30 days'].sum()\n",
    "\n",
    "###3G Site:\n",
    "Dashboard['3G Site']['Between 05 and 10 days'] = DetailOutageUp60nsUp2DC_PerCell_SITE_Up5Day.loc[((DetailOutageUp60nsUp2DC_PerCell_SITE_Up5Day['Between 05 and 10 days'] != 0) & (DetailOutageUp60nsUp2DC_PerCell_SITE_Up5Day['Technology'] == '3G')),'Between 05 and 10 days'].sum()\n",
    "Dashboard['3G Site']['Between 11 and 20 days'] = DetailOutageUp60nsUp2DC_PerCell_SITE_Up5Day.loc[((DetailOutageUp60nsUp2DC_PerCell_SITE_Up5Day['Between 11 and 20 days'] != 0) & (DetailOutageUp60nsUp2DC_PerCell_SITE_Up5Day['Technology'] == '3G')),'Between 11 and 20 days'].sum()\n",
    "Dashboard['3G Site']['Between 21 and 30 days'] = DetailOutageUp60nsUp2DC_PerCell_SITE_Up5Day.loc[((DetailOutageUp60nsUp2DC_PerCell_SITE_Up5Day['Between 21 and 30 days'] != 0) & (DetailOutageUp60nsUp2DC_PerCell_SITE_Up5Day['Technology'] == '3G')),'Between 21 and 30 days'].sum()\n",
    "\n",
    "###4G Site:\n",
    "Dashboard['4G Site']['Between 05 and 10 days'] = DetailOutageUp60nsUp2DC_PerCell_SITE_Up5Day.loc[((DetailOutageUp60nsUp2DC_PerCell_SITE_Up5Day['Between 05 and 10 days'] != 0) & (DetailOutageUp60nsUp2DC_PerCell_SITE_Up5Day['Technology'] == '4G')),'Between 05 and 10 days'].sum()\n",
    "Dashboard['4G Site']['Between 11 and 20 days'] = DetailOutageUp60nsUp2DC_PerCell_SITE_Up5Day.loc[((DetailOutageUp60nsUp2DC_PerCell_SITE_Up5Day['Between 11 and 20 days'] != 0) & (DetailOutageUp60nsUp2DC_PerCell_SITE_Up5Day['Technology'] == '4G')),'Between 11 and 20 days'].sum()\n",
    "Dashboard['4G Site']['Between 21 and 30 days'] = DetailOutageUp60nsUp2DC_PerCell_SITE_Up5Day.loc[((DetailOutageUp60nsUp2DC_PerCell_SITE_Up5Day['Between 21 and 30 days'] != 0) & (DetailOutageUp60nsUp2DC_PerCell_SITE_Up5Day['Technology'] == '4G')),'Between 21 and 30 days'].sum()\n",
    "\n",
    "###Category(Golden and Silver Site):\n",
    "DetailOutageUp60nsUp2DC_PerCell_SITE_Up5Day.loc[DetailOutageUp60nsUp2DC_PerCell_SITE_Up5Day['Category'] != 'Golden', 'Category'] = 'Silver'\n",
    "Dashboard['Golden Site']['Between 05 and 10 days'] = DetailOutageUp60nsUp2DC_PerCell_SITE_Up5Day.loc[((DetailOutageUp60nsUp2DC_PerCell_SITE_Up5Day['Between 05 and 10 days'] != 0) & (DetailOutageUp60nsUp2DC_PerCell_SITE_Up5Day['Category'] == 'Golden')),'Between 05 and 10 days'].sum()\n",
    "Dashboard['Golden Site']['Between 11 and 20 days'] = DetailOutageUp60nsUp2DC_PerCell_SITE_Up5Day.loc[((DetailOutageUp60nsUp2DC_PerCell_SITE_Up5Day['Between 11 and 20 days'] != 0) & (DetailOutageUp60nsUp2DC_PerCell_SITE_Up5Day['Category'] == 'Golden')),'Between 11 and 20 days'].sum()\n",
    "Dashboard['Golden Site']['Between 21 and 30 days'] = DetailOutageUp60nsUp2DC_PerCell_SITE_Up5Day.loc[((DetailOutageUp60nsUp2DC_PerCell_SITE_Up5Day['Between 21 and 30 days'] != 0) & (DetailOutageUp60nsUp2DC_PerCell_SITE_Up5Day['Category'] == 'Golden')),'Between 21 and 30 days'].sum()\n",
    "\n",
    "###Site Type(Road and City Site):\n",
    "DetailOutageUp60nsUp2DC_PerCell_SITE_Up5Day.loc[DetailOutageUp60nsUp2DC_PerCell_SITE_Up5Day['Site Type'] != 'Road', 'Site Type'] = 'City'\n",
    "\n",
    "Dashboard['City Site']['Between 05 and 10 days'] = DetailOutageUp60nsUp2DC_PerCell_SITE_Up5Day.loc[((DetailOutageUp60nsUp2DC_PerCell_SITE_Up5Day['Between 05 and 10 days'] != 0) & (DetailOutageUp60nsUp2DC_PerCell_SITE_Up5Day['Site Type'] == 'City')),'Between 05 and 10 days'].sum()\n",
    "Dashboard['City Site']['Between 11 and 20 days'] = DetailOutageUp60nsUp2DC_PerCell_SITE_Up5Day.loc[((DetailOutageUp60nsUp2DC_PerCell_SITE_Up5Day['Between 11 and 20 days'] != 0) & (DetailOutageUp60nsUp2DC_PerCell_SITE_Up5Day['Site Type'] == 'City')),'Between 11 and 20 days'].sum()\n",
    "Dashboard['City Site']['Between 21 and 30 days'] = DetailOutageUp60nsUp2DC_PerCell_SITE_Up5Day.loc[((DetailOutageUp60nsUp2DC_PerCell_SITE_Up5Day['Between 21 and 30 days'] != 0) & (DetailOutageUp60nsUp2DC_PerCell_SITE_Up5Day['Site Type'] == 'City')),'Between 21 and 30 days'].sum()\n",
    "\n",
    "Dashboard['Road Site']['Between 05 and 10 days'] = DetailOutageUp60nsUp2DC_PerCell_SITE_Up5Day.loc[((DetailOutageUp60nsUp2DC_PerCell_SITE_Up5Day['Between 05 and 10 days'] != 0) & (DetailOutageUp60nsUp2DC_PerCell_SITE_Up5Day['Site Type'] == 'Road')),'Between 05 and 10 days'].sum()\n",
    "Dashboard['Road Site']['Between 11 and 20 days'] = DetailOutageUp60nsUp2DC_PerCell_SITE_Up5Day.loc[((DetailOutageUp60nsUp2DC_PerCell_SITE_Up5Day['Between 11 and 20 days'] != 0) & (DetailOutageUp60nsUp2DC_PerCell_SITE_Up5Day['Site Type'] == 'Road')),'Between 11 and 20 days'].sum()\n",
    "Dashboard['Road Site']['Between 21 and 30 days'] = DetailOutageUp60nsUp2DC_PerCell_SITE_Up5Day.loc[((DetailOutageUp60nsUp2DC_PerCell_SITE_Up5Day['Between 21 and 30 days'] != 0) & (DetailOutageUp60nsUp2DC_PerCell_SITE_Up5Day['Site Type'] == 'Road')),'Between 21 and 30 days'].sum()\n",
    "\n",
    "Dashboard.to_excel('Output//DetailOutageUp60nsUp2DC_PerCell_SITE_Dashboard(13Mar_11Apr).xlsx', index=True, encoding='utf-8-sig')"
   ]
  },
  {
   "cell_type": "code",
   "execution_count": 32,
   "metadata": {},
   "outputs": [],
   "source": [
    "#Create Map \n",
    "Map = DetailOutageUp60nsUp2DC_PerCell_SITE_Up5Day[['Province Index','Location','NumOfFlucDay','AvgNumOfOutagePerDay','TAG','Category','Site Type','Name','Latitude','Longitude']]\n",
    "Map = Map.sort_values(by = ['TAG'], ascending = False)\n",
    "Map = Map.drop_duplicates(subset =['Location'],keep = 'first')\n",
    "Map = Map.sort_values(by = ['Location'], ascending = True)\n",
    "Map.to_excel('Output//DetailOutageUp60nsUp2DC_PerCell_SITE_Map22.xlsx', index=False, encoding='utf-8-sig')"
   ]
  },
  {
   "cell_type": "code",
   "execution_count": null,
   "metadata": {},
   "outputs": [],
   "source": [
    "#DetailOutageUp60nsUp2DC_PerCell_SITE_Up5Day"
   ]
  },
  {
   "cell_type": "code",
   "execution_count": null,
   "metadata": {},
   "outputs": [],
   "source": [
    "Dashboard"
   ]
  },
  {
   "cell_type": "code",
   "execution_count": null,
   "metadata": {},
   "outputs": [],
   "source": [
    "date = str(pd.to_datetime(DetailOutage['StartOfOutage']).dt.date.max())"
   ]
  },
  {
   "cell_type": "code",
   "execution_count": null,
   "metadata": {},
   "outputs": [],
   "source": []
  },
  {
   "cell_type": "code",
   "execution_count": null,
   "metadata": {},
   "outputs": [],
   "source": [
    "Map.to_excel('Outputs//DetailOutageUp60nsUp2DC_PerCell_SITE_Map(%s).xlsx'%date, index=False, encoding='utf-8-sig')"
   ]
  },
  {
   "cell_type": "code",
   "execution_count": null,
   "metadata": {},
   "outputs": [],
   "source": [
    "col = ['Location','2G Site','3G Site','4G Site','Golden Site','City Site','Road Site']\n",
    "ind = ['Between 05 and 10 days','Between 11 and 20 days','Between 21 and 30 days'] \n",
    "Dashboard = pd.DataFrame(columns=col)"
   ]
  },
  {
   "cell_type": "code",
   "execution_count": null,
   "metadata": {},
   "outputs": [],
   "source": [
    "Dashboard['Location'] = [1,2,3,4]"
   ]
  },
  {
   "cell_type": "code",
   "execution_count": null,
   "metadata": {},
   "outputs": [],
   "source": [
    "Dashboard"
   ]
  },
  {
   "cell_type": "code",
   "execution_count": null,
   "metadata": {},
   "outputs": [],
   "source": []
  }
 ],
 "metadata": {
  "kernelspec": {
   "display_name": "Python 3",
   "language": "python",
   "name": "python3"
  },
  "language_info": {
   "codemirror_mode": {
    "name": "ipython",
    "version": 3
   },
   "file_extension": ".py",
   "mimetype": "text/x-python",
   "name": "python",
   "nbconvert_exporter": "python",
   "pygments_lexer": "ipython3",
   "version": "3.7.4"
  }
 },
 "nbformat": 4,
 "nbformat_minor": 2
}
